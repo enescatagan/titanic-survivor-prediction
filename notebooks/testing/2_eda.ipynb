{
 "cells": [
  {
   "cell_type": "markdown",
   "metadata": {},
   "source": [
    "Before EDA let's reroll a bit:\n",
    "\n",
    "In `1_load_data__understand.ipynb` notebook in `\\notebooks\\testing` we;\n",
    "* load data\n",
    "* Set index to `PassengerId` feature\n",
    "* Get some kind of understanding from bird view on dataset\n",
    "  * We find Null values and Decided actions such\n",
    "    * `Age` attribute has *177* NaN\n",
    "      * Fill up with a regression model (not decided yet)\n",
    "    * `Cabin` attribute has *687* NaN\n",
    "      * First we will extract `CabinType` then delete `Cabin` feature\n",
    "      * Second We will fill up with a classification model (not decided yet)\n",
    "    * `Embarked` attribute has *2* NaN\n",
    "      * Simple Classification will enough for filling\n",
    "* Detecting Outliers;\n",
    "  * We will search for `Age` and `Fare` attributes for outliers\n",
    "* We will create some new features;\n",
    "  * From `Age` --> Create `AgeBucket` --> Delete `Age` If good for model\n",
    "  * From `Name` --> Create `Title` and `FamilySize` --> Delete `Name`\n",
    "  * From `SibSp` and `Parch` --> Create `RelativesOnBoard` --> Delete `SibSp` and `Parch` If good for model\n",
    "  * From `Ticket` --> Create `DoesHaveSameTicket` --> Delete `Ticket`\n",
    "  * From `Cabin` --> Create `CabinType` --> Delete `Cabin`\n",
    "* We found out skewness\n",
    "  * `Fare` feature has positive skewness; we will handle with **log transformation**\n",
    "  * `Age` feature has possible skewness; bu will ignore it because we won't use this feature directly\n",
    "* Encoding;\n",
    "  * `Sex`, `Embarked`, `DoesHaveSameTicket`(We will create), `Title`(We will create) and `CabinType`(We will create) will use **OneHotEncode**\n",
    "  * `Pclass` will use **OrdinalEncode**"
   ]
  },
  {
   "cell_type": "markdown",
   "metadata": {},
   "source": [
    "Let's Create data preprocessing guideline:\n",
    "\n",
    "1. Fill up NaN values\n",
    "2. Search for Outliers\n",
    "3. Create Features\n",
    "4. Handle Skewness if has it\n",
    "5. Encode\n",
    "\n",
    "| Feature | Steps |\n",
    "| ------- | :--: |\n",
    "| `Pclass` | 5 |\n",
    "| `Name` | 3 |\n",
    "| `Sex` | 5 |\n",
    "| `Age` | 1, 2, 3, 4 (if not deleted) |\n",
    "| `SibSp` | 3 |\n",
    "| `Parch` | 3 |\n",
    "| `Ticket` | 3 |\n",
    "| `Fare` | 2, 4 |\n",
    "| `Cabin` | 3 |\n",
    "| `Embarked` | 1, 5 |\n",
    "\n",
    "**Feature Creation And Deletions**\n",
    "| Feature From | New Feature | New Feature Steps | Deletion of Old one? |\n",
    "| ------------ | ----------- | :---------------: | :-------------: |\n",
    "| `Name` | `Title` | 5, 2, 5 | Yes |\n",
    "| `Name` | `FamilySize` | | Yes |\n",
    "| `Age` | `AgeBucket` | | Decide by score |\n",
    "| `SibSp` and `Parch` | `RelativesOnBoard` | | Decide by score |\n",
    "| `Ticket` | `DoesHaveSameTicket` | 5 | Yes |\n",
    "| `Cabin` | `CabinType` | 5 | Yes |\n",
    "\n",
    "* `Name`, `Ticket` and `Cabin` features after creating new features will **DELETED**.\n",
    "* `Age`, `SibSp` and `Parch` features after creating new features, we will see impact on a model then decided for deleted or not.\n",
    "\n",
    "**Note:**\n",
    "I did not include scaling for now."
   ]
  },
  {
   "cell_type": "markdown",
   "metadata": {},
   "source": [
    "These inferences are after first glance from dataset; can add to it or reduce it. I want to write now before EDA, because I will much more deep info after EDA, then I can review my first view and determine my actions accordingly."
   ]
  },
  {
   "cell_type": "markdown",
   "metadata": {},
   "source": [
    "---"
   ]
  },
  {
   "cell_type": "markdown",
   "metadata": {},
   "source": [
    "# EDA"
   ]
  },
  {
   "cell_type": "markdown",
   "metadata": {},
   "source": []
  }
 ],
 "metadata": {
  "language_info": {
   "name": "python"
  }
 },
 "nbformat": 4,
 "nbformat_minor": 2
}
