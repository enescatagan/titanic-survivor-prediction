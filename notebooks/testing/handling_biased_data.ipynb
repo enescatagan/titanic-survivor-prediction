{
 "cells": [
  {
   "cell_type": "markdown",
   "metadata": {},
   "source": [
    "**Testing** handling biased data"
   ]
  },
  {
   "cell_type": "code",
   "execution_count": null,
   "metadata": {},
   "outputs": [],
   "source": [
    "# Imports\n",
    "import pandas as pd\n",
    "import numpy as np\n",
    "import matplotlib.pyplot as plt"
   ]
  },
  {
   "cell_type": "code",
   "execution_count": null,
   "metadata": {},
   "outputs": [],
   "source": [
    "train_data = pd.read_csv('../../data/train.csv')\n",
    "test_data = pd.read_csv('../../data/test.csv')"
   ]
  },
  {
   "cell_type": "code",
   "execution_count": null,
   "metadata": {},
   "outputs": [],
   "source": [
    "X_train = train_data.drop('Survived', axis=1)\n",
    "y_train = train_data['Survived'].copy()"
   ]
  },
  {
   "cell_type": "markdown",
   "metadata": {},
   "source": [
    "This dataset comes from Kaggle and I'm trusting for that, and same time I wanna look at is it biased or not"
   ]
  },
  {
   "cell_type": "code",
   "execution_count": null,
   "metadata": {},
   "outputs": [],
   "source": [
    "survived_counts = y_train.value_counts()\n",
    "\n",
    "print(f'Number of survivors : {survived_counts[1]}')\n",
    "print(f'Number of deaths: {survived_counts[0]}')"
   ]
  },
  {
   "cell_type": "code",
   "execution_count": null,
   "metadata": {},
   "outputs": [],
   "source": [
    "plt.pie(survived_counts,\n",
    "        labels=[\"Deaths\", \"Survivors\"],\n",
    "        autopct='%1.1f%%',\n",
    "        colors=['#FF9999', '#66B2FF'],\n",
    "        startangle=90,\n",
    "        explode=(0, 0.1))\n",
    "\n",
    "plt.title(\"Rate of Survivors and Deaths on training set\")\n",
    "plt.axis('equal')\n",
    "plt.show()"
   ]
  },
  {
   "cell_type": "markdown",
   "metadata": {},
   "source": [
    "No obvious imbalance, and that's good for training model later. \n",
    "\n",
    "I wanna try **Oversampling** though:"
   ]
  },
  {
   "cell_type": "code",
   "execution_count": null,
   "metadata": {},
   "outputs": [],
   "source": [
    "from imblearn.over_sampling import RandomOverSampler\n",
    "\n",
    "oversampler = RandomOverSampler(random_state=42)\n",
    "\n",
    "# Oversampling the train set to eliminate the imbalance between survivors and fatalities\n",
    "X_train_resampled, y_train_resampled = oversampler.fit_resample(X_train, y_train)"
   ]
  },
  {
   "cell_type": "code",
   "execution_count": null,
   "metadata": {},
   "outputs": [],
   "source": [
    "survived_counts_resampled = y_train_resampled.value_counts()\n",
    "\n",
    "print(f'Number of survivors : {survived_counts_resampled[1]}')\n",
    "print(f'Number of deaths: {survived_counts_resampled[0]}')"
   ]
  },
  {
   "cell_type": "code",
   "execution_count": null,
   "metadata": {},
   "outputs": [],
   "source": [
    "plt.pie(survived_counts_resampled,\n",
    "        labels=[\"Deaths\", \"Survivors\"],\n",
    "        autopct='%1.1f%%',\n",
    "        colors=['#FF9999', '#66B2FF'],\n",
    "        startangle=90,\n",
    "        explode=(0, 0.1))\n",
    "\n",
    "plt.title(\"Rate of Survivors and Deaths on training set\")\n",
    "plt.axis('equal')\n",
    "plt.show()"
   ]
  },
  {
   "cell_type": "markdown",
   "metadata": {},
   "source": [
    "Default training set isn't bad but we tried to use oversampling method for increasing death number (I feel bad for it). Now future model can be better but we will test with default and resampled versions of training data, don't worry"
   ]
  }
 ],
 "metadata": {
  "language_info": {
   "name": "python"
  }
 },
 "nbformat": 4,
 "nbformat_minor": 2
}
